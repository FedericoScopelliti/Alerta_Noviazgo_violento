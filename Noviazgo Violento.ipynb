{
 "cells": [
  {
   "cell_type": "markdown",
   "id": "8b4ec6bd",
   "metadata": {},
   "source": [
    "# APLICACION DE KMEANS"
   ]
  },
  {
   "cell_type": "markdown",
   "id": "068a8d9f",
   "metadata": {},
   "source": [
    "# Test de Alerta sobre un noviazgo violento"
   ]
  },
  {
   "cell_type": "markdown",
   "id": "92437202",
   "metadata": {},
   "source": [
    "**Información respecto a las 10 preguntas y sus valores:**\n",
    "\n",
    "pregunta 1: Cuando no están juntos, ¿tu pareja te controla preguntándote con quién estás, dónde y qué estás haciendo mensajeando por celular?\n",
    "\n",
    "pregunta 2: ¿Revisa los mensajes de tu celular o te pidió la contraseña de tu correo electrónico, Facebook o Instagram como “prueba de confianza”?\n",
    "\n",
    "pregunta 3: ¿Te acusa de haber sido infiel o coquetear con otros/as?\n",
    "\n",
    "pregunta 4: ¿Sentís que están permanentemente en tensión y que, hagas lo que hagas, se irrita o te culpabiliza de sus cambios de humor?\n",
    "\n",
    "pregunta 5: ¿Le molesta que hagas actividades de manera independiente, como estudiar, trabajar, visitar amigos/as, ir al gimnasio o elegir quedarte sola/o en tu casa?\n",
    "\n",
    "pregunta 6: ¿Sentís que te alejaste o perdiste contacto con amigos/as o familiares desde que estás en pareja?\n",
    "\n",
    "pregunta 7: ¿Te dice cómo tenés que vestirte o cómo debe ser tu apariencia?\n",
    "\n",
    "pregunta 8: ¿Menosprecia en público o en privado tus opiniones?\n",
    "\n",
    "pregunta 9: ¿Te dice que todo lo que hacés está mal o que no servís para nada?\n",
    "\n",
    "pregunta 10: ¿Te amenaza con lastimarse/te si no lo/la obedeces o si querés terminar la relación?\n",
    "\n",
    "\n",
    "#### Información sobre las respuestas al test de Señales de Alerta en el noviazgo. Referencias: A=\"siempre\" B=\"a veces\" C=\"nunca\"\n"
   ]
  },
  {
   "cell_type": "code",
   "execution_count": 83,
   "id": "5ac666b6",
   "metadata": {},
   "outputs": [],
   "source": [
    "# Analisis exploratorio y limpieza\n",
    "import pandas as pd\n",
    "import numpy as np\n",
    "\n",
    "# Graficos\n",
    "import matplotlib.pyplot as plt\n",
    "import seaborn as sns\n",
    "\n",
    "# Standar Scaler\n",
    "from sklearn.preprocessing import StandardScaler"
   ]
  },
  {
   "cell_type": "markdown",
   "id": "1e356a10",
   "metadata": {},
   "source": [
    "## Analisis breve del dataset"
   ]
  },
  {
   "cell_type": "code",
   "execution_count": 84,
   "id": "66c88476",
   "metadata": {},
   "outputs": [
    {
     "data": {
      "text/html": [
       "<div>\n",
       "<style scoped>\n",
       "    .dataframe tbody tr th:only-of-type {\n",
       "        vertical-align: middle;\n",
       "    }\n",
       "\n",
       "    .dataframe tbody tr th {\n",
       "        vertical-align: top;\n",
       "    }\n",
       "\n",
       "    .dataframe thead th {\n",
       "        text-align: right;\n",
       "    }\n",
       "</style>\n",
       "<table border=\"1\" class=\"dataframe\">\n",
       "  <thead>\n",
       "    <tr style=\"text-align: right;\">\n",
       "      <th></th>\n",
       "      <th>FECHA</th>\n",
       "      <th>HORA</th>\n",
       "      <th>EDAD</th>\n",
       "      <th>GENERO</th>\n",
       "      <th>BARRIO</th>\n",
       "      <th>PREG_1</th>\n",
       "      <th>PREG_2</th>\n",
       "      <th>PREG_3</th>\n",
       "      <th>PREG_4</th>\n",
       "      <th>PREG_5</th>\n",
       "      <th>PREG_6</th>\n",
       "      <th>PREG_7</th>\n",
       "      <th>PREG_8</th>\n",
       "      <th>PREG_9</th>\n",
       "      <th>PREG_10</th>\n",
       "    </tr>\n",
       "  </thead>\n",
       "  <tbody>\n",
       "    <tr>\n",
       "      <th>0</th>\n",
       "      <td>13/02/2017</td>\n",
       "      <td>23:41</td>\n",
       "      <td>28</td>\n",
       "      <td>HOMBRE</td>\n",
       "      <td>PALERMO</td>\n",
       "      <td>B</td>\n",
       "      <td>B</td>\n",
       "      <td>B</td>\n",
       "      <td>B</td>\n",
       "      <td>B</td>\n",
       "      <td>B</td>\n",
       "      <td>B</td>\n",
       "      <td>B</td>\n",
       "      <td>B</td>\n",
       "      <td>B</td>\n",
       "    </tr>\n",
       "    <tr>\n",
       "      <th>1</th>\n",
       "      <td>13/02/2017</td>\n",
       "      <td>20:09</td>\n",
       "      <td>23</td>\n",
       "      <td>MUJER</td>\n",
       "      <td>BALVANERA</td>\n",
       "      <td>B</td>\n",
       "      <td>B</td>\n",
       "      <td>B</td>\n",
       "      <td>B</td>\n",
       "      <td>B</td>\n",
       "      <td>B</td>\n",
       "      <td>B</td>\n",
       "      <td>B</td>\n",
       "      <td>B</td>\n",
       "      <td>B</td>\n",
       "    </tr>\n",
       "    <tr>\n",
       "      <th>2</th>\n",
       "      <td>13/02/2017</td>\n",
       "      <td>20:07</td>\n",
       "      <td>22</td>\n",
       "      <td>MUJER</td>\n",
       "      <td>BALVANERA</td>\n",
       "      <td>A</td>\n",
       "      <td>A</td>\n",
       "      <td>A</td>\n",
       "      <td>A</td>\n",
       "      <td>A</td>\n",
       "      <td>A</td>\n",
       "      <td>A</td>\n",
       "      <td>A</td>\n",
       "      <td>B</td>\n",
       "      <td>C</td>\n",
       "    </tr>\n",
       "    <tr>\n",
       "      <th>3</th>\n",
       "      <td>13/02/2017</td>\n",
       "      <td>20:04</td>\n",
       "      <td>34</td>\n",
       "      <td>MUJER</td>\n",
       "      <td>VILLA PUEYRREDON</td>\n",
       "      <td>C</td>\n",
       "      <td>C</td>\n",
       "      <td>B</td>\n",
       "      <td>C</td>\n",
       "      <td>B</td>\n",
       "      <td>C</td>\n",
       "      <td>C</td>\n",
       "      <td>C</td>\n",
       "      <td>C</td>\n",
       "      <td>B</td>\n",
       "    </tr>\n",
       "    <tr>\n",
       "      <th>4</th>\n",
       "      <td>13/02/2017</td>\n",
       "      <td>19:34</td>\n",
       "      <td>31</td>\n",
       "      <td>MUJER</td>\n",
       "      <td>CABALLITO</td>\n",
       "      <td>C</td>\n",
       "      <td>C</td>\n",
       "      <td>C</td>\n",
       "      <td>C</td>\n",
       "      <td>C</td>\n",
       "      <td>C</td>\n",
       "      <td>C</td>\n",
       "      <td>C</td>\n",
       "      <td>C</td>\n",
       "      <td>C</td>\n",
       "    </tr>\n",
       "  </tbody>\n",
       "</table>\n",
       "</div>"
      ],
      "text/plain": [
       "        FECHA   HORA EDAD  GENERO            BARRIO PREG_1 PREG_2 PREG_3  \\\n",
       "0  13/02/2017  23:41   28  HOMBRE           PALERMO      B      B      B   \n",
       "1  13/02/2017  20:09   23   MUJER         BALVANERA      B      B      B   \n",
       "2  13/02/2017  20:07   22   MUJER         BALVANERA      A      A      A   \n",
       "3  13/02/2017  20:04   34   MUJER  VILLA PUEYRREDON      C      C      B   \n",
       "4  13/02/2017  19:34   31   MUJER         CABALLITO      C      C      C   \n",
       "\n",
       "  PREG_4 PREG_5 PREG_6 PREG_7 PREG_8 PREG_9 PREG_10  \n",
       "0      B      B      B      B      B      B       B  \n",
       "1      B      B      B      B      B      B       B  \n",
       "2      A      A      A      A      A      B       C  \n",
       "3      C      B      C      C      C      C       B  \n",
       "4      C      C      C      C      C      C       C  "
      ]
     },
     "execution_count": 84,
     "metadata": {},
     "output_type": "execute_result"
    }
   ],
   "source": [
    "data = pd.read_csv('resultados-del-test-febrero-octubre-2018.csv', sep=';')\n",
    "data.head()"
   ]
  },
  {
   "cell_type": "code",
   "execution_count": 85,
   "id": "302244fc",
   "metadata": {},
   "outputs": [
    {
     "name": "stdout",
     "output_type": "stream",
     "text": [
      "Cantidad de filas y columnas:\n",
      "(11643, 15)\n"
     ]
    }
   ],
   "source": [
    "print(f'Cantidad de filas y columnas:\\n{data.shape}')"
   ]
  },
  {
   "cell_type": "code",
   "execution_count": 86,
   "id": "896c8d89",
   "metadata": {},
   "outputs": [
    {
     "name": "stdout",
     "output_type": "stream",
     "text": [
      "<class 'pandas.core.frame.DataFrame'>\n",
      "RangeIndex: 11643 entries, 0 to 11642\n",
      "Data columns (total 15 columns):\n",
      " #   Column   Non-Null Count  Dtype \n",
      "---  ------   --------------  ----- \n",
      " 0   FECHA    11643 non-null  object\n",
      " 1   HORA     11643 non-null  object\n",
      " 2   EDAD     11643 non-null  object\n",
      " 3   GENERO   11643 non-null  object\n",
      " 4   BARRIO   11643 non-null  object\n",
      " 5   PREG_1   11643 non-null  object\n",
      " 6   PREG_2   11643 non-null  object\n",
      " 7   PREG_3   11643 non-null  object\n",
      " 8   PREG_4   11643 non-null  object\n",
      " 9   PREG_5   11643 non-null  object\n",
      " 10  PREG_6   11643 non-null  object\n",
      " 11  PREG_7   11643 non-null  object\n",
      " 12  PREG_8   11643 non-null  object\n",
      " 13  PREG_9   11643 non-null  object\n",
      " 14  PREG_10  11643 non-null  object\n",
      "dtypes: object(15)\n",
      "memory usage: 1.3+ MB\n"
     ]
    }
   ],
   "source": [
    "data.info()"
   ]
  },
  {
   "cell_type": "markdown",
   "id": "610f5f96",
   "metadata": {},
   "source": [
    "## 1) Limpieza del dataset\n",
    "\n",
    "1.1) Datos repetidos.\n",
    "\n",
    "1.2) Columnas que no nos sirvan.\n",
    "\n",
    "1.3) Valores nulos o faltantes.\n",
    "\n",
    "1.4) Cambiar el tipo de datos de la variable edad.\n",
    "\n",
    "1.5) Analizamos los valores unicos de las preguntas y los cambiamos por valores numericos. (0,1,2).\n",
    "\n",
    "1.6) Cambiamos los valores de la variable GENERO a 0 y 1."
   ]
  },
  {
   "cell_type": "markdown",
   "id": "aa602ff7",
   "metadata": {},
   "source": [
    "##### 1.1) Datos repetidos."
   ]
  },
  {
   "cell_type": "code",
   "execution_count": 87,
   "id": "dee6d18e",
   "metadata": {},
   "outputs": [
    {
     "name": "stdout",
     "output_type": "stream",
     "text": [
      "Filas y columnas sin eliminar duplicados:\n",
      "(11643, 15)\n",
      "\n",
      "Filas y columnas eliminando duplicados:\n",
      "(11625, 15)\n",
      "\n"
     ]
    }
   ],
   "source": [
    "data_train = data\n",
    "\n",
    "print(f'Filas y columnas sin eliminar duplicados:\\n{data_train.shape}\\n')\n",
    "data_train.drop_duplicates(inplace=True)\n",
    "print(f'Filas y columnas eliminando duplicados:\\n{data_train.shape}\\n')"
   ]
  },
  {
   "cell_type": "markdown",
   "id": "ba5c6661",
   "metadata": {},
   "source": [
    "##### 1.2) Columnas que no nos sirvan.\n",
    "\n",
    "Vamos a eliminar las columnas que no nos ayuden con el objetivo principal del analisis del dataset."
   ]
  },
  {
   "cell_type": "code",
   "execution_count": 88,
   "id": "6de6af21",
   "metadata": {},
   "outputs": [
    {
     "data": {
      "text/plain": [
       "Index(['FECHA', 'HORA', 'EDAD', 'GENERO', 'BARRIO', 'PREG_1', 'PREG_2',\n",
       "       'PREG_3', 'PREG_4', 'PREG_5', 'PREG_6', 'PREG_7', 'PREG_8', 'PREG_9',\n",
       "       'PREG_10'],\n",
       "      dtype='object')"
      ]
     },
     "execution_count": 88,
     "metadata": {},
     "output_type": "execute_result"
    }
   ],
   "source": [
    "data.columns"
   ]
  },
  {
   "cell_type": "code",
   "execution_count": 89,
   "id": "0d7f93f2",
   "metadata": {},
   "outputs": [
    {
     "data": {
      "text/html": [
       "<div>\n",
       "<style scoped>\n",
       "    .dataframe tbody tr th:only-of-type {\n",
       "        vertical-align: middle;\n",
       "    }\n",
       "\n",
       "    .dataframe tbody tr th {\n",
       "        vertical-align: top;\n",
       "    }\n",
       "\n",
       "    .dataframe thead th {\n",
       "        text-align: right;\n",
       "    }\n",
       "</style>\n",
       "<table border=\"1\" class=\"dataframe\">\n",
       "  <thead>\n",
       "    <tr style=\"text-align: right;\">\n",
       "      <th></th>\n",
       "      <th>EDAD</th>\n",
       "      <th>GENERO</th>\n",
       "      <th>PREG_1</th>\n",
       "      <th>PREG_2</th>\n",
       "      <th>PREG_3</th>\n",
       "      <th>PREG_4</th>\n",
       "      <th>PREG_5</th>\n",
       "      <th>PREG_6</th>\n",
       "      <th>PREG_7</th>\n",
       "      <th>PREG_8</th>\n",
       "      <th>PREG_9</th>\n",
       "      <th>PREG_10</th>\n",
       "    </tr>\n",
       "  </thead>\n",
       "  <tbody>\n",
       "    <tr>\n",
       "      <th>0</th>\n",
       "      <td>28</td>\n",
       "      <td>HOMBRE</td>\n",
       "      <td>B</td>\n",
       "      <td>B</td>\n",
       "      <td>B</td>\n",
       "      <td>B</td>\n",
       "      <td>B</td>\n",
       "      <td>B</td>\n",
       "      <td>B</td>\n",
       "      <td>B</td>\n",
       "      <td>B</td>\n",
       "      <td>B</td>\n",
       "    </tr>\n",
       "  </tbody>\n",
       "</table>\n",
       "</div>"
      ],
      "text/plain": [
       "  EDAD  GENERO PREG_1 PREG_2 PREG_3 PREG_4 PREG_5 PREG_6 PREG_7 PREG_8 PREG_9  \\\n",
       "0   28  HOMBRE      B      B      B      B      B      B      B      B      B   \n",
       "\n",
       "  PREG_10  \n",
       "0       B  "
      ]
     },
     "execution_count": 89,
     "metadata": {},
     "output_type": "execute_result"
    }
   ],
   "source": [
    "data_train = data.drop(columns=['FECHA','HORA','BARRIO'])\n",
    "data_train.head(1)"
   ]
  },
  {
   "cell_type": "markdown",
   "id": "ae20797b",
   "metadata": {},
   "source": [
    "##### 1.2) Valores nulos o faltantes.\n",
    "\n",
    "Comprobemos si tenemos valores nulos en el dataset. En caso de que halla algunos, veamos como podemos manejarlos."
   ]
  },
  {
   "cell_type": "code",
   "execution_count": 90,
   "id": "32b66970",
   "metadata": {},
   "outputs": [
    {
     "name": "stdout",
     "output_type": "stream",
     "text": [
      "Valores nulos:\n",
      "EDAD       0\n",
      "GENERO     0\n",
      "PREG_1     0\n",
      "PREG_2     0\n",
      "PREG_3     0\n",
      "PREG_4     0\n",
      "PREG_5     0\n",
      "PREG_6     0\n",
      "PREG_7     0\n",
      "PREG_8     0\n",
      "PREG_9     0\n",
      "PREG_10    0\n",
      "dtype: int64\n"
     ]
    }
   ],
   "source": [
    "print(f'Valores nulos:\\n{data_train.isna().sum()}')"
   ]
  },
  {
   "cell_type": "markdown",
   "id": "840b23cc",
   "metadata": {},
   "source": [
    "##### 1.4) Cambiamos el tipo de dato de la variable edad (objecto) a entero."
   ]
  },
  {
   "cell_type": "code",
   "execution_count": 91,
   "id": "0c272e8a",
   "metadata": {},
   "outputs": [
    {
     "name": "stdout",
     "output_type": "stream",
     "text": [
      "invalid literal for int() with base 10: '<18'\n"
     ]
    }
   ],
   "source": [
    "try:\n",
    "    data_train['EDAD'] = data_train['EDAD'].astype('int')\n",
    "except Exception as error:\n",
    "    print(error)"
   ]
  },
  {
   "cell_type": "code",
   "execution_count": 92,
   "id": "4d96b4a7",
   "metadata": {},
   "outputs": [
    {
     "data": {
      "text/plain": [
       "889"
      ]
     },
     "execution_count": 92,
     "metadata": {},
     "output_type": "execute_result"
    }
   ],
   "source": [
    "menores_18 = data_train['EDAD'] == '<18'\n",
    "menores_18.sum()"
   ]
  },
  {
   "cell_type": "markdown",
   "id": "3e00bcb4",
   "metadata": {},
   "source": [
    "Si queremos cambiar la variable a enteros, primero debemos reemplazar o eliminar los valores que contengan: '<18'.\n",
    "Descartamos la opcion de eliminar las filas con esos datos, ya que son una gran cantidad. Vamos a reemplazarlo por 18, ya que es el numero mas cercano de los menores de edad."
   ]
  },
  {
   "cell_type": "code",
   "execution_count": 93,
   "id": "fc160a98",
   "metadata": {},
   "outputs": [
    {
     "name": "stdout",
     "output_type": "stream",
     "text": [
      "El cambio se hizo correctamente.\n",
      "EDAD        int32\n",
      "GENERO     object\n",
      "PREG_1     object\n",
      "PREG_2     object\n",
      "PREG_3     object\n",
      "PREG_4     object\n",
      "PREG_5     object\n",
      "PREG_6     object\n",
      "PREG_7     object\n",
      "PREG_8     object\n",
      "PREG_9     object\n",
      "PREG_10    object\n",
      "dtype: object\n"
     ]
    }
   ],
   "source": [
    "data_train['EDAD'].replace({'<18':18}, inplace=True)\n",
    "\n",
    "try:\n",
    "    data_train['EDAD'] = data_train['EDAD'].astype('int')\n",
    "except Exception as error:\n",
    "    print(error)\n",
    "finally:\n",
    "    print(f'El cambio se hizo correctamente.')\n",
    "    print(data_train.dtypes)"
   ]
  },
  {
   "cell_type": "markdown",
   "id": "c65a767c",
   "metadata": {},
   "source": [
    "##### 1.5) Valores unicos y reemplazo por valores numericos."
   ]
  },
  {
   "cell_type": "code",
   "execution_count": 94,
   "id": "25faba06",
   "metadata": {},
   "outputs": [
    {
     "name": "stdout",
     "output_type": "stream",
     "text": [
      "Valores unicos de la variable GENERO\n",
      "['HOMBRE' 'MUJER' 'OTRO']\n",
      "Valores unicos de la variable PREG_1\n",
      "['B' 'A' 'C']\n",
      "Valores unicos de la variable PREG_2\n",
      "['B' 'A' 'C']\n",
      "Valores unicos de la variable PREG_3\n",
      "['B' 'A' 'C']\n",
      "Valores unicos de la variable PREG_4\n",
      "['B' 'A' 'C']\n",
      "Valores unicos de la variable PREG_5\n",
      "['B' 'A' 'C']\n",
      "Valores unicos de la variable PREG_6\n",
      "['B' 'A' 'C']\n",
      "Valores unicos de la variable PREG_7\n",
      "['B' 'A' 'C']\n",
      "Valores unicos de la variable PREG_8\n",
      "['B' 'A' 'C']\n",
      "Valores unicos de la variable PREG_9\n",
      "['B' 'C' 'A']\n",
      "Valores unicos de la variable PREG_10\n",
      "['B' 'C' 'A']\n"
     ]
    }
   ],
   "source": [
    "variables = ['GENERO','PREG_1','PREG_2','PREG_3','PREG_4','PREG_5','PREG_6','PREG_7','PREG_8','PREG_9','PREG_10']\n",
    "\n",
    "for i in variables:\n",
    "    print(f'Valores unicos de la variable {i}\\n{data_train[i].unique()}')"
   ]
  },
  {
   "cell_type": "markdown",
   "id": "ffaa513a",
   "metadata": {},
   "source": [
    "Reemplazemos los valores de la columna GENERO por numericos con get_dummies."
   ]
  },
  {
   "cell_type": "code",
   "execution_count": 95,
   "id": "4b1febfe",
   "metadata": {},
   "outputs": [
    {
     "data": {
      "text/html": [
       "<div>\n",
       "<style scoped>\n",
       "    .dataframe tbody tr th:only-of-type {\n",
       "        vertical-align: middle;\n",
       "    }\n",
       "\n",
       "    .dataframe tbody tr th {\n",
       "        vertical-align: top;\n",
       "    }\n",
       "\n",
       "    .dataframe thead th {\n",
       "        text-align: right;\n",
       "    }\n",
       "</style>\n",
       "<table border=\"1\" class=\"dataframe\">\n",
       "  <thead>\n",
       "    <tr style=\"text-align: right;\">\n",
       "      <th></th>\n",
       "      <th>EDAD</th>\n",
       "      <th>PREG_1</th>\n",
       "      <th>PREG_2</th>\n",
       "      <th>PREG_3</th>\n",
       "      <th>PREG_4</th>\n",
       "      <th>PREG_5</th>\n",
       "      <th>PREG_6</th>\n",
       "      <th>PREG_7</th>\n",
       "      <th>PREG_8</th>\n",
       "      <th>PREG_9</th>\n",
       "      <th>PREG_10</th>\n",
       "      <th>GENERO_HOMBRE</th>\n",
       "      <th>GENERO_MUJER</th>\n",
       "      <th>GENERO_OTRO</th>\n",
       "    </tr>\n",
       "  </thead>\n",
       "  <tbody>\n",
       "    <tr>\n",
       "      <th>0</th>\n",
       "      <td>28</td>\n",
       "      <td>B</td>\n",
       "      <td>B</td>\n",
       "      <td>B</td>\n",
       "      <td>B</td>\n",
       "      <td>B</td>\n",
       "      <td>B</td>\n",
       "      <td>B</td>\n",
       "      <td>B</td>\n",
       "      <td>B</td>\n",
       "      <td>B</td>\n",
       "      <td>1</td>\n",
       "      <td>0</td>\n",
       "      <td>0</td>\n",
       "    </tr>\n",
       "  </tbody>\n",
       "</table>\n",
       "</div>"
      ],
      "text/plain": [
       "   EDAD PREG_1 PREG_2 PREG_3 PREG_4 PREG_5 PREG_6 PREG_7 PREG_8 PREG_9  \\\n",
       "0    28      B      B      B      B      B      B      B      B      B   \n",
       "\n",
       "  PREG_10  GENERO_HOMBRE  GENERO_MUJER  GENERO_OTRO  \n",
       "0       B              1             0            0  "
      ]
     },
     "execution_count": 95,
     "metadata": {},
     "output_type": "execute_result"
    }
   ],
   "source": [
    "data_train = pd.get_dummies(data_train, columns=['GENERO'])\n",
    "data_train.head(1)"
   ]
  },
  {
   "cell_type": "markdown",
   "id": "f310397b",
   "metadata": {},
   "source": [
    "Ahora reemplazemos los valores en las columnas de preguntas. (A,B,C) => (0,1,2)"
   ]
  },
  {
   "cell_type": "code",
   "execution_count": 99,
   "id": "5653b612",
   "metadata": {},
   "outputs": [
    {
     "data": {
      "text/html": [
       "<div>\n",
       "<style scoped>\n",
       "    .dataframe tbody tr th:only-of-type {\n",
       "        vertical-align: middle;\n",
       "    }\n",
       "\n",
       "    .dataframe tbody tr th {\n",
       "        vertical-align: top;\n",
       "    }\n",
       "\n",
       "    .dataframe thead th {\n",
       "        text-align: right;\n",
       "    }\n",
       "</style>\n",
       "<table border=\"1\" class=\"dataframe\">\n",
       "  <thead>\n",
       "    <tr style=\"text-align: right;\">\n",
       "      <th></th>\n",
       "      <th>EDAD</th>\n",
       "      <th>PREG_1</th>\n",
       "      <th>PREG_2</th>\n",
       "      <th>PREG_3</th>\n",
       "      <th>PREG_4</th>\n",
       "      <th>PREG_5</th>\n",
       "      <th>PREG_6</th>\n",
       "      <th>PREG_7</th>\n",
       "      <th>PREG_8</th>\n",
       "      <th>PREG_9</th>\n",
       "      <th>PREG_10</th>\n",
       "      <th>GENERO_HOMBRE</th>\n",
       "      <th>GENERO_MUJER</th>\n",
       "      <th>GENERO_OTRO</th>\n",
       "    </tr>\n",
       "  </thead>\n",
       "  <tbody>\n",
       "    <tr>\n",
       "      <th>0</th>\n",
       "      <td>28</td>\n",
       "      <td>1</td>\n",
       "      <td>1</td>\n",
       "      <td>1</td>\n",
       "      <td>1</td>\n",
       "      <td>1</td>\n",
       "      <td>1</td>\n",
       "      <td>1</td>\n",
       "      <td>1</td>\n",
       "      <td>1</td>\n",
       "      <td>1</td>\n",
       "      <td>1</td>\n",
       "      <td>0</td>\n",
       "      <td>0</td>\n",
       "    </tr>\n",
       "    <tr>\n",
       "      <th>1</th>\n",
       "      <td>23</td>\n",
       "      <td>1</td>\n",
       "      <td>1</td>\n",
       "      <td>1</td>\n",
       "      <td>1</td>\n",
       "      <td>1</td>\n",
       "      <td>1</td>\n",
       "      <td>1</td>\n",
       "      <td>1</td>\n",
       "      <td>1</td>\n",
       "      <td>1</td>\n",
       "      <td>0</td>\n",
       "      <td>1</td>\n",
       "      <td>0</td>\n",
       "    </tr>\n",
       "    <tr>\n",
       "      <th>2</th>\n",
       "      <td>22</td>\n",
       "      <td>0</td>\n",
       "      <td>0</td>\n",
       "      <td>0</td>\n",
       "      <td>0</td>\n",
       "      <td>0</td>\n",
       "      <td>0</td>\n",
       "      <td>0</td>\n",
       "      <td>0</td>\n",
       "      <td>1</td>\n",
       "      <td>2</td>\n",
       "      <td>0</td>\n",
       "      <td>1</td>\n",
       "      <td>0</td>\n",
       "    </tr>\n",
       "    <tr>\n",
       "      <th>3</th>\n",
       "      <td>34</td>\n",
       "      <td>2</td>\n",
       "      <td>2</td>\n",
       "      <td>1</td>\n",
       "      <td>2</td>\n",
       "      <td>1</td>\n",
       "      <td>2</td>\n",
       "      <td>2</td>\n",
       "      <td>2</td>\n",
       "      <td>2</td>\n",
       "      <td>1</td>\n",
       "      <td>0</td>\n",
       "      <td>1</td>\n",
       "      <td>0</td>\n",
       "    </tr>\n",
       "    <tr>\n",
       "      <th>4</th>\n",
       "      <td>31</td>\n",
       "      <td>2</td>\n",
       "      <td>2</td>\n",
       "      <td>2</td>\n",
       "      <td>2</td>\n",
       "      <td>2</td>\n",
       "      <td>2</td>\n",
       "      <td>2</td>\n",
       "      <td>2</td>\n",
       "      <td>2</td>\n",
       "      <td>2</td>\n",
       "      <td>0</td>\n",
       "      <td>1</td>\n",
       "      <td>0</td>\n",
       "    </tr>\n",
       "  </tbody>\n",
       "</table>\n",
       "</div>"
      ],
      "text/plain": [
       "   EDAD  PREG_1  PREG_2  PREG_3  PREG_4  PREG_5  PREG_6  PREG_7  PREG_8  \\\n",
       "0    28       1       1       1       1       1       1       1       1   \n",
       "1    23       1       1       1       1       1       1       1       1   \n",
       "2    22       0       0       0       0       0       0       0       0   \n",
       "3    34       2       2       1       2       1       2       2       2   \n",
       "4    31       2       2       2       2       2       2       2       2   \n",
       "\n",
       "   PREG_9  PREG_10  GENERO_HOMBRE  GENERO_MUJER  GENERO_OTRO  \n",
       "0       1        1              1             0            0  \n",
       "1       1        1              0             1            0  \n",
       "2       1        2              0             1            0  \n",
       "3       2        1              0             1            0  \n",
       "4       2        2              0             1            0  "
      ]
     },
     "execution_count": 99,
     "metadata": {},
     "output_type": "execute_result"
    }
   ],
   "source": [
    "variables_preg = ['PREG_1','PREG_2','PREG_3','PREG_4','PREG_5','PREG_6','PREG_7','PREG_8','PREG_9','PREG_10']\n",
    "\n",
    "for i in variables_preg:\n",
    "    data_train[i].replace(['A','B','C'], [0,1,2], inplace=True)\n",
    "        \n",
    "data_train.head()"
   ]
  },
  {
   "cell_type": "markdown",
   "id": "7b704ef1",
   "metadata": {},
   "source": [
    "**Conclusion de la limpieza de datos:**\n",
    "\n",
    "1) Tenemos un total de 18 valores repetidos. Podemos llegar a pensar de los individuos respondieron a las preguntas de igual manera. Sin embargo, seria mucha considencia que sea en la misma fecha, horario y el mismo barrio.\n",
    "\n",
    "2) Eliminamos las columnas fecha, hora y barrio ya que no determinan si alguien sufre violencia o no.\n",
    "\n",
    "3) El dataset no tiene valores faltantes, por lo que no es necesario modificar nada.\n",
    "\n",
    "4) Cambiamos la variable EDAD de object a int.\n",
    "\n",
    "5) Por ultimo, reemplazamos los valores categoricos por numericos. Para la variable GENERO utilizamos get_dummies que nos dividio en tres columnas:\n",
    "\n",
    "    - GENERO_HOMBRE\n",
    "    \n",
    "    - GENERO_MUJER\n",
    "    \n",
    "    - GENERO_OTRO\n",
    "**(0 = NO, 1 = SI)**\n",
    "    \n",
    "5) En el caso de las preguntas, las referencias quedarian asi:\n",
    "\n",
    "    - 0 = \"SIEMPRE\" \n",
    "    \n",
    "    - 1 = \"A VECES\"\n",
    "    \n",
    "    - 2 = \"NUNCA\".\n"
   ]
  },
  {
   "cell_type": "markdown",
   "id": "8d1e66ad",
   "metadata": {},
   "source": [
    "## 2) Analisis exploratorio (EDA)"
   ]
  },
  {
   "cell_type": "markdown",
   "id": "68f47061",
   "metadata": {},
   "source": [
    "### ¿Qué buscamos responder?\n",
    "\n",
    "El dataset consta de encuestas a personas de diferente edad y sexo. El problema es que no tenemos una variable dependiente que nos diga si el individuo está sufriendo algún tipo de violencia durante la etapa del noviazgo. Nuestro objetivo es dividir a la población en 2 grupos, uno en los que posiblemente ya están sufriendo algún tipo de violencia y otro que no, pero deberían mantenerse alerta.\n",
    "\n",
    "Para esto utilizaremos el algoritmo de k-means. De esta manera tendremos dos clusters."
   ]
  },
  {
   "cell_type": "markdown",
   "id": "32479638",
   "metadata": {},
   "source": [
    "2.1) Observar cuantos individuos fueron encuestados segun su genero.\n",
    "\n",
    "2.2) Analisis de las variables individualmente segun el genero.\n",
    "\n",
    "2.3) Edades de la poblacion que manejamos."
   ]
  },
  {
   "cell_type": "markdown",
   "id": "8e73a1db",
   "metadata": {},
   "source": [
    "##### 2.1) Cantidad de individuos segun el genero."
   ]
  },
  {
   "cell_type": "code",
   "execution_count": 134,
   "id": "e65f90d5",
   "metadata": {},
   "outputs": [
    {
     "name": "stdout",
     "output_type": "stream",
     "text": [
      "0 = No, 1 = Si\n"
     ]
    },
    {
     "data": {
      "image/png": "[encoded data removed]",
      "text/plain": [
       "<Figure size 360x360 with 1 Axes>"
      ]
     },
     "metadata": {
      "needs_background": "light"
     },
     "output_type": "display_data"
    },
    {
     "data": {
      "image/png": "[encoded data removed]",
      "text/plain": [
       "<Figure size 360x360 with 1 Axes>"
      ]
     },
     "metadata": {
      "needs_background": "light"
     },
     "output_type": "display_data"
    },
    {
     "data": {
      "image/png": "[encoded data removed]",
      "text/plain": [
       "<Figure size 360x360 with 1 Axes>"
      ]
     },
     "metadata": {
      "needs_background": "light"
     },
     "output_type": "display_data"
    }
   ],
   "source": [
    "generos = ['GENERO_HOMBRE', 'GENERO_MUJER', 'GENERO_OTRO']\n",
    "\n",
    "print('0 = No, 1 = Si')\n",
    "for i in generos:\n",
    "    plt.figure(figsize=(5,5))\n",
    "    plt.grid(True)\n",
    "    sns.countplot(data=data_train, x=i, hue=i)\n",
    "    plt.show()"
   ]
  },
  {
   "cell_type": "markdown",
   "id": "846cb0b2",
   "metadata": {},
   "source": [
    "##### 2.2) Analisis de las respuestas segun el genero de los individuos."
   ]
  },
  {
   "cell_type": "code",
   "execution_count": 118,
   "id": "fcb852fc",
   "metadata": {},
   "outputs": [
    {
     "data": {
      "image/png": "[encoded data removed]",
      "text/plain": [
       "<Figure size 288x288 with 1 Axes>"
      ]
     },
     "metadata": {
      "needs_background": "light"
     },
     "output_type": "display_data"
    },
    {
     "data": {
      "image/png": "[encoded data removed]",
      "text/plain": [
       "<Figure size 288x288 with 1 Axes>"
      ]
     },
     "metadata": {
      "needs_background": "light"
     },
     "output_type": "display_data"
    },
    {
     "data": {
      "image/png": "[encoded data removed]",
      "text/plain": [
       "<Figure size 288x288 with 1 Axes>"
      ]
     },
     "metadata": {
      "needs_background": "light"
     },
     "output_type": "display_data"
    },
    {
     "data": {
      "image/png": "[encoded data removed]",
      "text/plain": [
       "<Figure size 288x288 with 1 Axes>"
      ]
     },
     "metadata": {
      "needs_background": "light"
     },
     "output_type": "display_data"
    },
    {
     "data": {
      "image/png": "[encoded data removed]",
      "text/plain": [
       "<Figure size 288x288 with 1 Axes>"
      ]
     },
     "metadata": {
      "needs_background": "light"
     },
     "output_type": "display_data"
    },
    {
     "data": {
      "image/png": "[encoded data removed]",
      "text/plain": [
       "<Figure size 288x288 with 1 Axes>"
      ]
     },
     "metadata": {
      "needs_background": "light"
     },
     "output_type": "display_data"
    },
    {
     "data": {
      "image/png": "[encoded data removed]",
      "text/plain": [
       "<Figure size 288x288 with 1 Axes>"
      ]
     },
     "metadata": {
      "needs_background": "light"
     },
     "output_type": "display_data"
    },
    {
     "data": {
      "image/png": "[encoded data removed]",
      "text/plain": [
       "<Figure size 288x288 with 1 Axes>"
      ]
     },
     "metadata": {
      "needs_background": "light"
     },
     "output_type": "display_data"
    },
    {
     "data": {
      "image/png": "[encoded data removed]",
      "text/plain": [
       "<Figure size 288x288 with 1 Axes>"
      ]
     },
     "metadata": {
      "needs_background": "light"
     },
     "output_type": "display_data"
    },
    {
     "data": {
      "image/png": "[encoded data removed]",
      "text/plain": [
       "<Figure size 288x288 with 1 Axes>"
      ]
     },
     "metadata": {
      "needs_background": "light"
     },
     "output_type": "display_data"
    }
   ],
   "source": [
    "for i in variables_preg:\n",
    "    plt.figure(figsize=(4,4))\n",
    "    sns.countplot(data=data, x=i, hue='GENERO')\n",
    "    plt.grid(True)\n",
    "    plt.show()"
   ]
  },
  {
   "cell_type": "markdown",
   "id": "03088ca1",
   "metadata": {},
   "source": [
    "##### 2.3) Edades de la poblacion que manejamos."
   ]
  },
  {
   "cell_type": "code",
   "execution_count": 133,
   "id": "edc06f62",
   "metadata": {},
   "outputs": [
    {
     "data": {
      "image/png": "[encoded data removed]",
      "text/plain": [
       "<Figure size 360x360 with 1 Axes>"
      ]
     },
     "metadata": {
      "needs_background": "light"
     },
     "output_type": "display_data"
    }
   ],
   "source": [
    "sns.displot(data=data_train, x='EDAD',bins=10, kind=('hist'), kde=True)\n",
    "plt.show()"
   ]
  },
  {
   "cell_type": "markdown",
   "id": "e9d09f2d",
   "metadata": {},
   "source": [
    "Manejamos una población con una gran cantidad de individuos de entre 18 y 28 años aproximadamente. A simple vista, en los primeros tres gráficos podemos ver que tenemos una mayor cantidad de mujeres que de hombres.\n",
    "\n",
    "En el caso de las mujeres, la mayoría respondió a las preguntas con 'NUNCA', seguido por 'A VECES'. Y en los hombres, las respuestas están bastante parejas. No podemos decir nada del género 'OTRO', ya que no hay una gran cantidad de individuos."
   ]
  },
  {
   "cell_type": "markdown",
   "id": "a562ecc0",
   "metadata": {},
   "source": [
    "## 3) Preparación de los datos\n",
    "\n",
    "3.1) Estandarizado de los datos con Standar Scaler.\n",
    "\n",
    "3.2) Aplicacion de k-means al dataset."
   ]
  },
  {
   "cell_type": "markdown",
   "id": "d73b4629",
   "metadata": {},
   "source": [
    "##### 3.1) Standar Scaler"
   ]
  },
  {
   "cell_type": "code",
   "execution_count": 137,
   "id": "c37bc973",
   "metadata": {},
   "outputs": [
    {
     "data": {
      "text/plain": [
       "array([[-0.03319376, -0.08011398, -0.55914035, ...,  1.65940729,\n",
       "        -1.64133917, -0.06572408],\n",
       "       [-0.571077  , -0.08011398, -0.55914035, ..., -0.60262481,\n",
       "         0.6092586 , -0.06572408],\n",
       "       [-0.67865365, -1.47222908, -1.85966188, ..., -0.60262481,\n",
       "         0.6092586 , -0.06572408],\n",
       "       ...,\n",
       "       [-1.10896024,  1.31200112,  0.74138117, ..., -0.60262481,\n",
       "         0.6092586 , -0.06572408],\n",
       "       [ 2.22591585, -1.47222908, -1.85966188, ...,  1.65940729,\n",
       "        -1.64133917, -0.06572408],\n",
       "       [-0.03319376, -1.47222908, -0.55914035, ..., -0.60262481,\n",
       "         0.6092586 , -0.06572408]])"
      ]
     },
     "execution_count": 137,
     "metadata": {},
     "output_type": "execute_result"
    }
   ],
   "source": [
    "data_scaler = StandardScaler().fit_transform(data_train)\n",
    "data_scaler"
   ]
  },
  {
   "cell_type": "markdown",
   "id": "c6e985ff",
   "metadata": {},
   "source": [
    "##### 3.2) Generamos 2 clusters con K-means"
   ]
  },
  {
   "cell_type": "code",
   "execution_count": 138,
   "id": "c510a12c",
   "metadata": {},
   "outputs": [],
   "source": [
    "from sklearn.cluster import KMeans"
   ]
  },
  {
   "cell_type": "code",
   "execution_count": 140,
   "id": "f3fea841",
   "metadata": {},
   "outputs": [
    {
     "data": {
      "text/html": [
       "<style>#sk-container-id-2 {color: black;background-color: white;}#sk-container-id-2 pre{padding: 0;}#sk-container-id-2 div.sk-toggleable {background-color: white;}#sk-container-id-2 label.sk-toggleable__label {cursor: pointer;display: block;width: 100%;margin-bottom: 0;padding: 0.3em;box-sizing: border-box;text-align: center;}#sk-container-id-2 label.sk-toggleable__label-arrow:before {content: \"▸\";float: left;margin-right: 0.25em;color: #696969;}#sk-container-id-2 label.sk-toggleable__label-arrow:hover:before {color: black;}#sk-container-id-2 div.sk-estimator:hover label.sk-toggleable__label-arrow:before {color: black;}#sk-container-id-2 div.sk-toggleable__content {max-height: 0;max-width: 0;overflow: hidden;text-align: left;background-color: #f0f8ff;}#sk-container-id-2 div.sk-toggleable__content pre {margin: 0.2em;color: black;border-radius: 0.25em;background-color: #f0f8ff;}#sk-container-id-2 input.sk-toggleable__control:checked~div.sk-toggleable__content {max-height: 200px;max-width: 100%;overflow: auto;}#sk-container-id-2 input.sk-toggleable__control:checked~label.sk-toggleable__label-arrow:before {content: \"▾\";}#sk-container-id-2 div.sk-estimator input.sk-toggleable__control:checked~label.sk-toggleable__label {background-color: #d4ebff;}#sk-container-id-2 div.sk-label input.sk-toggleable__control:checked~label.sk-toggleable__label {background-color: #d4ebff;}#sk-container-id-2 input.sk-hidden--visually {border: 0;clip: rect(1px 1px 1px 1px);clip: rect(1px, 1px, 1px, 1px);height: 1px;margin: -1px;overflow: hidden;padding: 0;position: absolute;width: 1px;}#sk-container-id-2 div.sk-estimator {font-family: monospace;background-color: #f0f8ff;border: 1px dotted black;border-radius: 0.25em;box-sizing: border-box;margin-bottom: 0.5em;}#sk-container-id-2 div.sk-estimator:hover {background-color: #d4ebff;}#sk-container-id-2 div.sk-parallel-item::after {content: \"\";width: 100%;border-bottom: 1px solid gray;flex-grow: 1;}#sk-container-id-2 div.sk-label:hover label.sk-toggleable__label {background-color: #d4ebff;}#sk-container-id-2 div.sk-serial::before {content: \"\";position: absolute;border-left: 1px solid gray;box-sizing: border-box;top: 0;bottom: 0;left: 50%;z-index: 0;}#sk-container-id-2 div.sk-serial {display: flex;flex-direction: column;align-items: center;background-color: white;padding-right: 0.2em;padding-left: 0.2em;position: relative;}#sk-container-id-2 div.sk-item {position: relative;z-index: 1;}#sk-container-id-2 div.sk-parallel {display: flex;align-items: stretch;justify-content: center;background-color: white;position: relative;}#sk-container-id-2 div.sk-item::before, #sk-container-id-2 div.sk-parallel-item::before {content: \"\";position: absolute;border-left: 1px solid gray;box-sizing: border-box;top: 0;bottom: 0;left: 50%;z-index: -1;}#sk-container-id-2 div.sk-parallel-item {display: flex;flex-direction: column;z-index: 1;position: relative;background-color: white;}#sk-container-id-2 div.sk-parallel-item:first-child::after {align-self: flex-end;width: 50%;}#sk-container-id-2 div.sk-parallel-item:last-child::after {align-self: flex-start;width: 50%;}#sk-container-id-2 div.sk-parallel-item:only-child::after {width: 0;}#sk-container-id-2 div.sk-dashed-wrapped {border: 1px dashed gray;margin: 0 0.4em 0.5em 0.4em;box-sizing: border-box;padding-bottom: 0.4em;background-color: white;}#sk-container-id-2 div.sk-label label {font-family: monospace;font-weight: bold;display: inline-block;line-height: 1.2em;}#sk-container-id-2 div.sk-label-container {text-align: center;}#sk-container-id-2 div.sk-container {/* jupyter's `normalize.less` sets `[hidden] { display: none; }` but bootstrap.min.css set `[hidden] { display: none !important; }` so we also need the `!important` here to be able to override the default hidden behavior on the sphinx rendered scikit-learn.org. See: https://github.com/scikit-learn/scikit-learn/issues/21755 */display: inline-block !important;position: relative;}#sk-container-id-2 div.sk-text-repr-fallback {display: none;}</style><div id=\"sk-container-id-2\" class=\"sk-top-container\"><div class=\"sk-text-repr-fallback\"><pre>KMeans(n_clusters=2)</pre><b>In a Jupyter environment, please rerun this cell to show the HTML representation or trust the notebook. <br />On GitHub, the HTML representation is unable to render, please try loading this page with nbviewer.org.</b></div><div class=\"sk-container\" hidden><div class=\"sk-item\"><div class=\"sk-estimator sk-toggleable\"><input class=\"sk-toggleable__control sk-hidden--visually\" id=\"sk-estimator-id-2\" type=\"checkbox\" checked><label for=\"sk-estimator-id-2\" class=\"sk-toggleable__label sk-toggleable__label-arrow\">KMeans</label><div class=\"sk-toggleable__content\"><pre>KMeans(n_clusters=2)</pre></div></div></div></div></div>"
      ],
      "text/plain": [
       "KMeans(n_clusters=2)"
      ]
     },
     "execution_count": 140,
     "metadata": {},
     "output_type": "execute_result"
    }
   ],
   "source": [
    "# Vamos a generar dos clusters (o grupos) para poder dividir aquellos que ya sufren algun tipo de violencio y los que no.\n",
    "clusters = KMeans(n_clusters=2, max_iter=300)\n",
    "\n",
    "# Lo aplicamos\n",
    "clusters.fit(data_scaler)"
   ]
  },
  {
   "cell_type": "markdown",
   "id": "641384f1",
   "metadata": {},
   "source": [
    "Los resultados de los clusters (0 y 1) estan dentro de labels_. Vamos a crear una nueva columna con estos grupos."
   ]
  },
  {
   "cell_type": "code",
   "execution_count": 141,
   "id": "3edfed21",
   "metadata": {},
   "outputs": [
    {
     "data": {
      "text/html": [
       "<div>\n",
       "<style scoped>\n",
       "    .dataframe tbody tr th:only-of-type {\n",
       "        vertical-align: middle;\n",
       "    }\n",
       "\n",
       "    .dataframe tbody tr th {\n",
       "        vertical-align: top;\n",
       "    }\n",
       "\n",
       "    .dataframe thead th {\n",
       "        text-align: right;\n",
       "    }\n",
       "</style>\n",
       "<table border=\"1\" class=\"dataframe\">\n",
       "  <thead>\n",
       "    <tr style=\"text-align: right;\">\n",
       "      <th></th>\n",
       "      <th>EDAD</th>\n",
       "      <th>PREG_1</th>\n",
       "      <th>PREG_2</th>\n",
       "      <th>PREG_3</th>\n",
       "      <th>PREG_4</th>\n",
       "      <th>PREG_5</th>\n",
       "      <th>PREG_6</th>\n",
       "      <th>PREG_7</th>\n",
       "      <th>PREG_8</th>\n",
       "      <th>PREG_9</th>\n",
       "      <th>PREG_10</th>\n",
       "      <th>GENERO_HOMBRE</th>\n",
       "      <th>GENERO_MUJER</th>\n",
       "      <th>GENERO_OTRO</th>\n",
       "      <th>Grupo</th>\n",
       "    </tr>\n",
       "  </thead>\n",
       "  <tbody>\n",
       "    <tr>\n",
       "      <th>0</th>\n",
       "      <td>28</td>\n",
       "      <td>1</td>\n",
       "      <td>1</td>\n",
       "      <td>1</td>\n",
       "      <td>1</td>\n",
       "      <td>1</td>\n",
       "      <td>1</td>\n",
       "      <td>1</td>\n",
       "      <td>1</td>\n",
       "      <td>1</td>\n",
       "      <td>1</td>\n",
       "      <td>1</td>\n",
       "      <td>0</td>\n",
       "      <td>0</td>\n",
       "      <td>1</td>\n",
       "    </tr>\n",
       "    <tr>\n",
       "      <th>1</th>\n",
       "      <td>23</td>\n",
       "      <td>1</td>\n",
       "      <td>1</td>\n",
       "      <td>1</td>\n",
       "      <td>1</td>\n",
       "      <td>1</td>\n",
       "      <td>1</td>\n",
       "      <td>1</td>\n",
       "      <td>1</td>\n",
       "      <td>1</td>\n",
       "      <td>1</td>\n",
       "      <td>0</td>\n",
       "      <td>1</td>\n",
       "      <td>0</td>\n",
       "      <td>1</td>\n",
       "    </tr>\n",
       "    <tr>\n",
       "      <th>2</th>\n",
       "      <td>22</td>\n",
       "      <td>0</td>\n",
       "      <td>0</td>\n",
       "      <td>0</td>\n",
       "      <td>0</td>\n",
       "      <td>0</td>\n",
       "      <td>0</td>\n",
       "      <td>0</td>\n",
       "      <td>0</td>\n",
       "      <td>1</td>\n",
       "      <td>2</td>\n",
       "      <td>0</td>\n",
       "      <td>1</td>\n",
       "      <td>0</td>\n",
       "      <td>1</td>\n",
       "    </tr>\n",
       "    <tr>\n",
       "      <th>3</th>\n",
       "      <td>34</td>\n",
       "      <td>2</td>\n",
       "      <td>2</td>\n",
       "      <td>1</td>\n",
       "      <td>2</td>\n",
       "      <td>1</td>\n",
       "      <td>2</td>\n",
       "      <td>2</td>\n",
       "      <td>2</td>\n",
       "      <td>2</td>\n",
       "      <td>1</td>\n",
       "      <td>0</td>\n",
       "      <td>1</td>\n",
       "      <td>0</td>\n",
       "      <td>0</td>\n",
       "    </tr>\n",
       "    <tr>\n",
       "      <th>4</th>\n",
       "      <td>31</td>\n",
       "      <td>2</td>\n",
       "      <td>2</td>\n",
       "      <td>2</td>\n",
       "      <td>2</td>\n",
       "      <td>2</td>\n",
       "      <td>2</td>\n",
       "      <td>2</td>\n",
       "      <td>2</td>\n",
       "      <td>2</td>\n",
       "      <td>2</td>\n",
       "      <td>0</td>\n",
       "      <td>1</td>\n",
       "      <td>0</td>\n",
       "      <td>0</td>\n",
       "    </tr>\n",
       "  </tbody>\n",
       "</table>\n",
       "</div>"
      ],
      "text/plain": [
       "   EDAD  PREG_1  PREG_2  PREG_3  PREG_4  PREG_5  PREG_6  PREG_7  PREG_8  \\\n",
       "0    28       1       1       1       1       1       1       1       1   \n",
       "1    23       1       1       1       1       1       1       1       1   \n",
       "2    22       0       0       0       0       0       0       0       0   \n",
       "3    34       2       2       1       2       1       2       2       2   \n",
       "4    31       2       2       2       2       2       2       2       2   \n",
       "\n",
       "   PREG_9  PREG_10  GENERO_HOMBRE  GENERO_MUJER  GENERO_OTRO  Grupo  \n",
       "0       1        1              1             0            0      1  \n",
       "1       1        1              0             1            0      1  \n",
       "2       1        2              0             1            0      1  \n",
       "3       2        1              0             1            0      0  \n",
       "4       2        2              0             1            0      0  "
      ]
     },
     "execution_count": 141,
     "metadata": {},
     "output_type": "execute_result"
    }
   ],
   "source": [
    "data_train['Grupo'] = clusters.labels_\n",
    "data_train.head()"
   ]
  },
  {
   "cell_type": "markdown",
   "id": "deb179ae",
   "metadata": {},
   "source": [
    "Veamos con un grafico cuantos individuos hay en cada cluster."
   ]
  },
  {
   "cell_type": "code",
   "execution_count": 143,
   "id": "892c14d8",
   "metadata": {},
   "outputs": [
    {
     "data": {
      "image/png": "[encoded data removed]",
      "text/plain": [
       "<Figure size 432x288 with 1 Axes>"
      ]
     },
     "metadata": {
      "needs_background": "light"
     },
     "output_type": "display_data"
    }
   ],
   "source": [
    "sns.countplot(data=data_train, x='Grupo')\n",
    "plt.grid(True)\n",
    "plt.show()"
   ]
  },
  {
   "cell_type": "markdown",
   "id": "6d204fe3",
   "metadata": {},
   "source": [
    "Tenemos aproximadamente 8000 en el grupo 0 y 3800 en el 1. Ahora, vamos a ver la diferencia que podemos encontrar. Vamos a tomar como muestra un individuo de cada grupo."
   ]
  },
  {
   "cell_type": "code",
   "execution_count": 149,
   "id": "0fa07406",
   "metadata": {},
   "outputs": [],
   "source": [
    "individuo_grupo0 = data_train.iloc[4]\n",
    "individuo_grupo1 = data_train.iloc[1]\n",
    "comparacion = [individuo_grupo0, individuo_grupo1]"
   ]
  },
  {
   "cell_type": "code",
   "execution_count": 150,
   "id": "cf5b4e25",
   "metadata": {},
   "outputs": [
    {
     "data": {
      "text/html": [
       "<div>\n",
       "<style scoped>\n",
       "    .dataframe tbody tr th:only-of-type {\n",
       "        vertical-align: middle;\n",
       "    }\n",
       "\n",
       "    .dataframe tbody tr th {\n",
       "        vertical-align: top;\n",
       "    }\n",
       "\n",
       "    .dataframe thead th {\n",
       "        text-align: right;\n",
       "    }\n",
       "</style>\n",
       "<table border=\"1\" class=\"dataframe\">\n",
       "  <thead>\n",
       "    <tr style=\"text-align: right;\">\n",
       "      <th></th>\n",
       "      <th>EDAD</th>\n",
       "      <th>PREG_1</th>\n",
       "      <th>PREG_2</th>\n",
       "      <th>PREG_3</th>\n",
       "      <th>PREG_4</th>\n",
       "      <th>PREG_5</th>\n",
       "      <th>PREG_6</th>\n",
       "      <th>PREG_7</th>\n",
       "      <th>PREG_8</th>\n",
       "      <th>PREG_9</th>\n",
       "      <th>PREG_10</th>\n",
       "      <th>GENERO_HOMBRE</th>\n",
       "      <th>GENERO_MUJER</th>\n",
       "      <th>GENERO_OTRO</th>\n",
       "      <th>Grupo</th>\n",
       "    </tr>\n",
       "  </thead>\n",
       "  <tbody>\n",
       "    <tr>\n",
       "      <th>4</th>\n",
       "      <td>31</td>\n",
       "      <td>2</td>\n",
       "      <td>2</td>\n",
       "      <td>2</td>\n",
       "      <td>2</td>\n",
       "      <td>2</td>\n",
       "      <td>2</td>\n",
       "      <td>2</td>\n",
       "      <td>2</td>\n",
       "      <td>2</td>\n",
       "      <td>2</td>\n",
       "      <td>0</td>\n",
       "      <td>1</td>\n",
       "      <td>0</td>\n",
       "      <td>0</td>\n",
       "    </tr>\n",
       "    <tr>\n",
       "      <th>1</th>\n",
       "      <td>23</td>\n",
       "      <td>1</td>\n",
       "      <td>1</td>\n",
       "      <td>1</td>\n",
       "      <td>1</td>\n",
       "      <td>1</td>\n",
       "      <td>1</td>\n",
       "      <td>1</td>\n",
       "      <td>1</td>\n",
       "      <td>1</td>\n",
       "      <td>1</td>\n",
       "      <td>0</td>\n",
       "      <td>1</td>\n",
       "      <td>0</td>\n",
       "      <td>1</td>\n",
       "    </tr>\n",
       "  </tbody>\n",
       "</table>\n",
       "</div>"
      ],
      "text/plain": [
       "   EDAD  PREG_1  PREG_2  PREG_3  PREG_4  PREG_5  PREG_6  PREG_7  PREG_8  \\\n",
       "4    31       2       2       2       2       2       2       2       2   \n",
       "1    23       1       1       1       1       1       1       1       1   \n",
       "\n",
       "   PREG_9  PREG_10  GENERO_HOMBRE  GENERO_MUJER  GENERO_OTRO  Grupo  \n",
       "4       2        2              0             1            0      0  \n",
       "1       1        1              0             1            0      1  "
      ]
     },
     "execution_count": 150,
     "metadata": {},
     "output_type": "execute_result"
    }
   ],
   "source": [
    "data_comparacion = pd.DataFrame(comparacion)\n",
    "data_comparacion.head()"
   ]
  },
  {
   "cell_type": "markdown",
   "id": "4dc14316",
   "metadata": {},
   "source": [
    "Las referencias eran:\n",
    "\n",
    "- 0 = \"SIEMPRE\" \n",
    "\n",
    "- 1 = \"A VECES\"\n",
    "\n",
    "- 2 = \"NUNCA\".\n",
    "\n",
    "En este pequeño dataset tenemos dos individuos de género femenino con 8 años de diferencia. Si observamos, en el caso de la mujer que pertenece al grupo 0 respondió en todas las ocasiones 'NUNCA'. Pero la mujer que pertenece al grupo número 1, respondió en todas 'A VECES'. Esto nos puede dejar en claro que aquellos que pertenecen al grupo número 1 tienen más probabilidades de sufrir violencia en la etapa del noviazgo o ya la están sufriendo.\n",
    "\n",
    "Comparemos ahora según el género."
   ]
  },
  {
   "cell_type": "code",
   "execution_count": 151,
   "id": "fe39ace5",
   "metadata": {},
   "outputs": [
    {
     "data": {
      "image/png": "[encoded data removed]",
      "text/plain": [
       "<Figure size 432x432 with 1 Axes>"
      ]
     },
     "metadata": {
      "needs_background": "light"
     },
     "output_type": "display_data"
    }
   ],
   "source": [
    "# Primero le agregamos la variable de cluster al dataset original\n",
    "data['Grupo'] = clusters.labels_\n",
    "\n",
    "plt.figure(figsize=(6,6))\n",
    "plt.grid(True)\n",
    "sns.countplot(data=data, x='Grupo', hue='GENERO')\n",
    "plt.show()"
   ]
  },
  {
   "cell_type": "markdown",
   "id": "ace7d4a7",
   "metadata": {},
   "source": [
    "En conclusión, la mayoría de los encuestados pertenecen al grupo 0, por lo que posiblemente no deberían estar en alerta por un noviazgo violento. En cambio, esa minoría que pertenece al grupo 1, sus respuestas demuestran que ya están sufriendo algún tipo de violencia o deberían tener precaución.\n",
    "\n",
    "**De aproximadamente 3.000 hombres, 1.000 pertenecen al grupo 1. Y de 8.300 mujeres, unas 2.800.**\n",
    "\n",
    "**Si bien esto es un análisis, todos deberíamos tener cuidado en todas las etapas de nuestra vida.**\n",
    "\n",
    "\n",
    "Si bien esto es un analisis, todos deberiamos tener cuidado en todas las etapas de nuestra vida."
   ]
  }
 ],
 "metadata": {
  "kernelspec": {
   "display_name": "Python 3 (ipykernel)",
   "language": "python",
   "name": "python3"
  },
  "language_info": {
   "codemirror_mode": {
    "name": "ipython",
    "version": 3
   },
   "file_extension": ".py",
   "mimetype": "text/x-python",
   "name": "python",
   "nbconvert_exporter": "python",
   "pygments_lexer": "ipython3",
   "version": "3.9.7"
  }
 },
 "nbformat": 4,
 "nbformat_minor": 5
}
